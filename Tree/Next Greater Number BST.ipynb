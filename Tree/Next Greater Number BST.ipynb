# Definition for a  binary tree node
# class TreeNode:
#     def __init__(self, x):
#         self.val = x
#         self.left = None
#         self.right = None

class Solution:
    # @param A : root node of tree
    # @param B : integer
    # @return the root node in the tree
    def find(self,root,data):
        if root is None:
            return None
        elif root.val==data:
            return root
        elif root.val<data:
            return self.find(root.right,data)
        else:
            return self.find(root.left,data)
    def findMin(self,root):
        if root is None:
            return None
        while root.left:
            root=root.left
        return root
        
    def getSuccessor(self, A, B):
        # search the address of the integer
        current=self.find(A,B)
        if current is None:
            return None 
        # if the current node has right node then find the deepest left node 
        # of that right node
        if current.right :
            return self.findMin(current.right)
        # if the current node has no right node 
        else:
            succesor =None
            ancestor =A
            while ancestor is not current:
                if current.val<ancestor.val:
                    succesor=ancestor
                    ancestor=ancestor.left
                else:
                    ancestor=ancestor.right
            return succesor
